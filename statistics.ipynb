{
 "cells": [
  {
   "cell_type": "code",
   "execution_count": null,
   "metadata": {},
   "outputs": [],
   "source": [
    "type = \"cron\""
   ]
  },
  {
   "cell_type": "code",
   "execution_count": null,
   "metadata": {},
   "outputs": [],
   "source": [
    "import pandas as pd\n",
    "import os\n",
    "from pathlib import Path"
   ]
  },
  {
   "cell_type": "code",
   "execution_count": null,
   "metadata": {},
   "outputs": [],
   "source": [
    "dir = Path.home() / \"Documents/Talon persisted files\"\n",
    "files = os.listdir(dir)\n",
    "files = [f for f in files if f.startswith(type)]\n",
    "print(files)"
   ]
  },
  {
   "cell_type": "code",
   "execution_count": null,
   "metadata": {},
   "outputs": [],
   "source": [
    "df = pd.DataFrame()\n",
    "for file in files:\n",
    "    file = dir / file\n",
    "    temp = pd.read_json(file, lines=True)\n",
    "    df = pd.concat([df, temp])\n",
    "df[\"date\"] = pd.to_datetime(df[\"time\"], unit=\"s\").dt.strftime(\"%Y-%m-%d\")\n",
    "df.shape"
   ]
  },
  {
   "cell_type": "code",
   "execution_count": null,
   "metadata": {},
   "outputs": [],
   "source": [
    "def calculate_cron(df):\n",
    "    df.loc[\"Total\",:]= df[[\"count\", \"sum\", \"window_size\"]].sum(axis=0, numeric_only=True)\n",
    "    df = df.replace(pd.NA, \"-\")\n",
    "    df = df.groupby([\"date\", \"application\"])[[\"count\", \"sum\", \"window_size\"]].mean()\n",
    "    # Average deviation in milliseconds\n",
    "    df[\"avg deviation (ms)\"] = df[\"sum\"] / df[\"count\"]\n",
    "    # Count per second\n",
    "    df[\"count / s\"] = df[\"count\"] / df[\"window_size\"]\n",
    "    df.drop([\"count\", \"sum\", \"window_size\"], axis=1, inplace=True)\n",
    "    return df.round(1)\n",
    "\n",
    "def calculate_phrase(df):\n",
    "    df.loc[\"Total\",:]= df[[\"compile_ms\", \"total_ms\"]].mean(axis=0, numeric_only=True)\n",
    "    df = df.replace(pd.NA, \"-\")\n",
    "    df = df.groupby([\"date\", \"application\"])[[\"compile_ms\", \"total_ms\"]].mean()\n",
    "    return df.round(1)\n",
    "\n",
    "def calculate(df):\n",
    "    if type == \"cron\":\n",
    "        return calculate_cron(df)\n",
    "    if type == \"phrase\":\n",
    "        return calculate_phrase(df)\n",
    "    return \n",
    "\n",
    "res_df = calculate(df.copy())\n",
    "res_df.to_csv(dir / f\"{type}.csv\")\n",
    "res_df"
   ]
  }
 ],
 "metadata": {
  "kernelspec": {
   "display_name": "Python 3.10.6 64-bit",
   "language": "python",
   "name": "python3"
  },
  "language_info": {
   "codemirror_mode": {
    "name": "ipython",
    "version": 3
   },
   "file_extension": ".py",
   "mimetype": "text/x-python",
   "name": "python",
   "nbconvert_exporter": "python",
   "pygments_lexer": "ipython3",
   "version": "3.10.6"
  },
  "orig_nbformat": 4,
  "vscode": {
   "interpreter": {
    "hash": "95cdb06e919eab5e2c554174537356ac9b55200d1eb6f880dc25de04343a18ea"
   }
  }
 },
 "nbformat": 4,
 "nbformat_minor": 2
}
