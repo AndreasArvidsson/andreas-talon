{
 "cells": [
  {
   "cell_type": "code",
   "execution_count": 470,
   "metadata": {},
   "outputs": [],
   "source": [
    "type = \"cron\""
   ]
  },
  {
   "cell_type": "code",
   "execution_count": 471,
   "metadata": {},
   "outputs": [],
   "source": [
    "import pandas as pd\n",
    "import os\n",
    "from pathlib import Path"
   ]
  },
  {
   "cell_type": "code",
   "execution_count": 472,
   "metadata": {},
   "outputs": [
    {
     "name": "stdout",
     "output_type": "stream",
     "text": [
      "['cron_deviation_2022-08-21.jsonl']\n"
     ]
    }
   ],
   "source": [
    "dir = Path(\"C:/Users/andre/Documents/Talon persisted files\")\n",
    "files = os.listdir(dir)\n",
    "files = [f for f in files if f.startswith(type)]\n",
    "print(files)"
   ]
  },
  {
   "cell_type": "code",
   "execution_count": 473,
   "metadata": {},
   "outputs": [
    {
     "data": {
      "text/plain": [
       "(178, 8)"
      ]
     },
     "execution_count": 473,
     "metadata": {},
     "output_type": "execute_result"
    }
   ],
   "source": [
    "df = pd.DataFrame()\n",
    "for file in files:\n",
    "    file = dir / file\n",
    "    temp = pd.read_json(file, lines=True)\n",
    "    df = pd.concat([df, temp])\n",
    "df[\"date\"] = pd.to_datetime(df[\"time\"], unit=\"s\").dt.strftime(\"%Y-%m-%d\")\n",
    "df.shape"
   ]
  },
  {
   "cell_type": "code",
   "execution_count": 475,
   "metadata": {},
   "outputs": [
    {
     "data": {
      "text/html": [
       "<div>\n",
       "<style scoped>\n",
       "    .dataframe tbody tr th:only-of-type {\n",
       "        vertical-align: middle;\n",
       "    }\n",
       "\n",
       "    .dataframe tbody tr th {\n",
       "        vertical-align: top;\n",
       "    }\n",
       "\n",
       "    .dataframe thead th {\n",
       "        text-align: right;\n",
       "    }\n",
       "</style>\n",
       "<table border=\"1\" class=\"dataframe\">\n",
       "  <thead>\n",
       "    <tr style=\"text-align: right;\">\n",
       "      <th></th>\n",
       "      <th></th>\n",
       "      <th>avg deviation (ms)</th>\n",
       "      <th>count / s</th>\n",
       "    </tr>\n",
       "    <tr>\n",
       "      <th>date</th>\n",
       "      <th>application</th>\n",
       "      <th></th>\n",
       "      <th></th>\n",
       "    </tr>\n",
       "  </thead>\n",
       "  <tbody>\n",
       "    <tr>\n",
       "      <th>-</th>\n",
       "      <th>-</th>\n",
       "      <td>2.9</td>\n",
       "      <td>3.1</td>\n",
       "    </tr>\n",
       "    <tr>\n",
       "      <th rowspan=\"4\" valign=\"top\">2022-08-21</th>\n",
       "      <th>-</th>\n",
       "      <td>5.2</td>\n",
       "      <td>4.8</td>\n",
       "    </tr>\n",
       "    <tr>\n",
       "      <th>Firefox</th>\n",
       "      <td>1.9</td>\n",
       "      <td>3.4</td>\n",
       "    </tr>\n",
       "    <tr>\n",
       "      <th>Visual Studio Code</th>\n",
       "      <td>2.2</td>\n",
       "      <td>2.8</td>\n",
       "    </tr>\n",
       "    <tr>\n",
       "      <th>Windows Explorer</th>\n",
       "      <td>1.3</td>\n",
       "      <td>3.8</td>\n",
       "    </tr>\n",
       "  </tbody>\n",
       "</table>\n",
       "</div>"
      ],
      "text/plain": [
       "                               avg deviation (ms)  count / s\n",
       "date       application                                      \n",
       "-          -                                  2.9        3.1\n",
       "2022-08-21 -                                  5.2        4.8\n",
       "           Firefox                            1.9        3.4\n",
       "           Visual Studio Code                 2.2        2.8\n",
       "           Windows Explorer                   1.3        3.8"
      ]
     },
     "execution_count": 475,
     "metadata": {},
     "output_type": "execute_result"
    }
   ],
   "source": [
    "def calculate_cron(df):\n",
    "    df.loc[\"Total\",:]= df[[\"count\", \"sum\", \"window_size\"]].sum(axis=0, numeric_only=True)\n",
    "    df = df.replace(pd.NA, \"-\")\n",
    "    df = df.groupby([\"date\", \"application\"])[[\"count\", \"sum\", \"window_size\"]].mean()\n",
    "    # Average deviation in milliseconds\n",
    "    df[\"avg deviation (ms)\"] = df[\"sum\"] / df[\"count\"]\n",
    "    # Count per second\n",
    "    df[\"count / s\"] = df[\"count\"] / df[\"window_size\"]\n",
    "    df.drop([\"count\", \"sum\", \"window_size\"], axis=1, inplace=True)\n",
    "    return df.round(1)\n",
    "\n",
    "def calculate_phrase(df):\n",
    "    df.loc[\"Total\",:]= df[[\"compile_ms\", \"total_ms\"]].mean(axis=0, numeric_only=True)\n",
    "    df = df.replace(pd.NA, \"-\")\n",
    "    df = df.groupby([\"date\", \"application\"])[[\"compile_ms\", \"total_ms\"]].mean()\n",
    "    return df\n",
    "\n",
    "def calculate(df):\n",
    "    if type == \"cron\":\n",
    "        return calculate_cron(df)\n",
    "    if type == \"phrase\":\n",
    "        return calculate_phrase(df)\n",
    "    return \n",
    "\n",
    "calculate(df.copy())"
   ]
  }
 ],
 "metadata": {
  "kernelspec": {
   "display_name": "Python 3.10.1 64-bit",
   "language": "python",
   "name": "python3"
  },
  "language_info": {
   "codemirror_mode": {
    "name": "ipython",
    "version": 3
   },
   "file_extension": ".py",
   "mimetype": "text/x-python",
   "name": "python",
   "nbconvert_exporter": "python",
   "pygments_lexer": "ipython3",
   "version": "3.10.1"
  },
  "orig_nbformat": 4,
  "vscode": {
   "interpreter": {
    "hash": "369f2c481f4da34e4445cda3fffd2e751bd1c4d706f27375911949ba6bb62e1c"
   }
  }
 },
 "nbformat": 4,
 "nbformat_minor": 2
}
