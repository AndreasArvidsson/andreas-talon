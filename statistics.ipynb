{
 "cells": [
  {
   "cell_type": "code",
   "execution_count": null,
   "metadata": {},
   "outputs": [],
   "source": [
    "type = \"cron\""
   ]
  },
  {
   "cell_type": "code",
   "execution_count": null,
   "metadata": {},
   "outputs": [],
   "source": [
    "import pandas as pd\n",
    "import os\n",
    "from pathlib import Path"
   ]
  },
  {
   "cell_type": "code",
   "execution_count": null,
   "metadata": {},
   "outputs": [],
   "source": [
    "dir = Path(\"C:/Users/andre/Documents/Talon persisted files\")\n",
    "files = os.listdir(dir)\n",
    "files = [f for f in files if f.startswith(type)]\n",
    "print(files)"
   ]
  },
  {
   "cell_type": "code",
   "execution_count": null,
   "metadata": {},
   "outputs": [],
   "source": [
    "df = pd.DataFrame()\n",
    "for file in files:\n",
    "    file = dir / file\n",
    "    temp = pd.read_json(file, lines=True)\n",
    "    df = pd.concat([df, temp])\n",
    "df[\"date\"] = pd.to_datetime(df[\"time\"], unit=\"s\").dt.strftime(\"%Y-%m-%d\")\n",
    "df.shape"
   ]
  },
  {
   "cell_type": "code",
   "execution_count": null,
   "metadata": {},
   "outputs": [],
   "source": [
    "def calculate_cron(df):\n",
    "    df.loc[\"Total\",:]= df[[\"count\", \"sum\", \"window_size\"]].sum(axis=0, numeric_only=True)\n",
    "    df = df.replace(pd.NA, \"-\")\n",
    "    df = df.groupby([\"date\", \"application\"])[[\"count\", \"sum\", \"window_size\"]].mean()\n",
    "    # Average deviation in milliseconds\n",
    "    df[\"avg deviation (ms)\"] = df[\"sum\"] / df[\"count\"]\n",
    "    # Count per second\n",
    "    df[\"count / s\"] = df[\"count\"] / df[\"window_size\"]\n",
    "    df.drop([\"count\", \"sum\", \"window_size\"], axis=1, inplace=True)\n",
    "    return df.round(1)\n",
    "\n",
    "def calculate_phrase(df):\n",
    "    df.loc[\"Total\",:]= df[[\"compile_ms\", \"total_ms\"]].mean(axis=0, numeric_only=True)\n",
    "    df = df.replace(pd.NA, \"-\")\n",
    "    df = df.groupby([\"date\", \"application\"])[[\"compile_ms\", \"total_ms\"]].mean()\n",
    "    return df.round(1)\n",
    "\n",
    "def calculate(df):\n",
    "    if type == \"cron\":\n",
    "        return calculate_cron(df)\n",
    "    if type == \"phrase\":\n",
    "        return calculate_phrase(df)\n",
    "    return \n",
    "\n",
    "calculate(df.copy())"
   ]
  }
 ],
 "metadata": {
  "kernelspec": {
   "display_name": "Python 3.10.1 64-bit",
   "language": "python",
   "name": "python3"
  },
  "language_info": {
   "codemirror_mode": {
    "name": "ipython",
    "version": 3
   },
   "file_extension": ".py",
   "mimetype": "text/x-python",
   "name": "python",
   "nbconvert_exporter": "python",
   "pygments_lexer": "ipython3",
   "version": "3.10.1"
  },
  "orig_nbformat": 4,
  "vscode": {
   "interpreter": {
    "hash": "369f2c481f4da34e4445cda3fffd2e751bd1c4d706f27375911949ba6bb62e1c"
   }
  }
 },
 "nbformat": 4,
 "nbformat_minor": 2
}
